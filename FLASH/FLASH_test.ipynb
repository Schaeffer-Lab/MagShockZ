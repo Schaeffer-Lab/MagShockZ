{
 "cells": [
  {
   "cell_type": "code",
   "execution_count": 3,
   "metadata": {},
   "outputs": [
    {
     "name": "stderr",
     "output_type": "stream",
     "text": [
      "yt : [INFO     ] 2025-01-22 21:03:06,440 Particle file found: sedov_hdf5_chk_0001\n",
      "yt : [INFO     ] 2025-01-22 21:03:06,460 Parameters: current_time              = 0.010059905419357001\n",
      "yt : [INFO     ] 2025-01-22 21:03:06,460 Parameters: domain_dimensions         = [8 8 1]\n",
      "yt : [INFO     ] 2025-01-22 21:03:06,460 Parameters: domain_left_edge          = [0. 0. 0.]\n",
      "yt : [INFO     ] 2025-01-22 21:03:06,461 Parameters: domain_right_edge         = [1. 1. 1.]\n",
      "yt : [INFO     ] 2025-01-22 21:03:06,461 Parameters: cosmological_simulation   = 0\n"
     ]
    },
    {
     "name": "stdout",
     "output_type": "stream",
     "text": [
      "sedov_hdf5_chk_0001\n"
     ]
    }
   ],
   "source": [
    "import yt\n",
    "\n",
    "# Load the dataset\n",
    "ds = yt.load(\"~/FLASH4.8/object/sedov_hdf5_chk_0001\")\n",
    "\n",
    "# Print dataset information\n",
    "print(ds)"
   ]
  },
  {
   "cell_type": "code",
   "execution_count": 5,
   "metadata": {},
   "outputs": [
    {
     "name": "stderr",
     "output_type": "stream",
     "text": [
      "yt : [INFO     ] 2025-01-22 21:04:24,306 xlim = 0.000000 1.000000\n",
      "yt : [INFO     ] 2025-01-22 21:04:24,306 ylim = 0.000000 1.000000\n",
      "yt : [INFO     ] 2025-01-22 21:04:24,307 xlim = 0.000000 1.000000\n",
      "yt : [INFO     ] 2025-01-22 21:04:24,307 ylim = 0.000000 1.000000\n",
      "yt : [INFO     ] 2025-01-22 21:04:24,308 Making a fixed resolution buffer of (('gas', 'density')) 800 by 800\n",
      "yt : [INFO     ] 2025-01-22 21:04:24,555 Saving plot sedov_hdf5_chk_0001_Slice_z_density.png\n"
     ]
    },
    {
     "data": {
      "text/plain": [
       "['sedov_hdf5_chk_0001_Slice_z_density.png']"
      ]
     },
     "execution_count": 5,
     "metadata": {},
     "output_type": "execute_result"
    }
   ],
   "source": [
    "slc = yt.SlicePlot(ds, \"z\", \"density\")\n",
    "slc.save()\n"
   ]
  },
  {
   "cell_type": "code",
   "execution_count": null,
   "metadata": {},
   "outputs": [],
   "source": []
  }
 ],
 "metadata": {
  "kernelspec": {
   "display_name": "FLASH-analysis",
   "language": "python",
   "name": "python3"
  },
  "language_info": {
   "codemirror_mode": {
    "name": "ipython",
    "version": 3
   },
   "file_extension": ".py",
   "mimetype": "text/x-python",
   "name": "python",
   "nbconvert_exporter": "python",
   "pygments_lexer": "ipython3",
   "version": "3.12.3"
  }
 },
 "nbformat": 4,
 "nbformat_minor": 2
}

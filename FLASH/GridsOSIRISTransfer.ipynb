{
 "cells": [
  {
   "cell_type": "markdown",
   "id": "c0313b00-3d1e-49d6-aeff-0c12ef27880b",
   "metadata": {},
   "source": [
    "## Extract FLASH Data in yt\n",
    "Mirielle Wong\n",
    "\n",
    "6/21/24\n",
    "\n",
    "Use yt's covering_grid class to extract data from FLASH."
   ]
  },
  {
   "cell_type": "code",
   "execution_count": 1,
   "id": "ddb7b038-d764-4a98-bd78-a4dfe18d51e7",
   "metadata": {},
   "outputs": [],
   "source": [
    "# https://yt-project.org/\n",
    "\n",
    "import yt\n",
    "import numpy as np\n",
    "import pandas as pd\n",
    "import matplotlib.pyplot as plt\n",
    "\n",
    "from datetime import datetime"
   ]
  },
  {
   "cell_type": "code",
   "execution_count": 2,
   "id": "a0a9f295-7a11-4baf-b513-154ad8faecce",
   "metadata": {},
   "outputs": [],
   "source": [
    "plot_path = \"./OSIRIS_transfer/MAGOFF/MagShockZ_hdf5_plt_cnt_0004\"\n",
    "# plot_path = \"./OSIRIS_transfer/MAGOFF/MagShockZ_hdf5_chk_0005\""
   ]
  },
  {
   "cell_type": "code",
   "execution_count": 3,
   "id": "2a8e6a9d-2eb9-49a8-a4b2-ea1b211a9f98",
   "metadata": {},
   "outputs": [
    {
     "name": "stderr",
     "output_type": "stream",
     "text": [
      "yt : [INFO     ] 2024-06-27 12:29:06,661 Parameters: current_time              = 2.0028718575168763e-09\n",
      "yt : [INFO     ] 2024-06-27 12:29:06,662 Parameters: domain_dimensions         = [288 272 288]\n",
      "yt : [INFO     ] 2024-06-27 12:29:06,663 Parameters: domain_left_edge          = [-0.6   -0.075 -0.6  ]\n",
      "yt : [INFO     ] 2024-06-27 12:29:06,663 Parameters: domain_right_edge         = [0.6 1.  0.6]\n",
      "yt : [INFO     ] 2024-06-27 12:29:06,664 Parameters: cosmological_simulation   = 0\n"
     ]
    }
   ],
   "source": [
    "ds = yt.load(plot_path)"
   ]
  },
  {
   "cell_type": "code",
   "execution_count": 4,
   "id": "88390df9-4bee-4dcb-814b-4c03f9e88890",
   "metadata": {},
   "outputs": [
    {
     "data": {
      "text/plain": [
       "[On-Disk Field ('flash', 'cham'): (units: '', display_name: 'Chamber Material Fraction'),\n",
       " On-Disk Field ('flash', 'dens'): (units: 'code_mass/code_length**3'),\n",
       " On-Disk Field ('flash', 'depo'): (units: 'code_length**2/code_time**2'),\n",
       " On-Disk Field ('flash', 'magp'): (units: 'code_mass/(code_length*code_time**2)'),\n",
       " On-Disk Field ('flash', 'magx'): (units: 'code_magnetic', display_name: 'B_x'),\n",
       " On-Disk Field ('flash', 'magy'): (units: 'code_magnetic', display_name: 'B_y'),\n",
       " On-Disk Field ('flash', 'sumy'): (units: ''),\n",
       " On-Disk Field ('flash', 'targ'): (units: '', display_name: 'Target Material Fraction'),\n",
       " On-Disk Field ('flash', 'tele'): (units: 'code_temperature'),\n",
       " On-Disk Field ('flash', 'tion'): (units: 'code_temperature'),\n",
       " On-Disk Field ('flash', 'trad'): (units: 'code_temperature'),\n",
       " On-Disk Field ('flash', 'ye'): (units: '', display_name: 'Y_e'),\n",
       " Alias Field for ('index', 'vertex_z') ('flash', 'vertex_z'): (units: 'cm'),\n",
       " Alias Field for ('index', 'path_element_y') ('flash', 'path_element_y'): (units: 'cm'),\n",
       " Alias Field for ('index', 'x') ('flash', 'x'): (units: 'cm'),\n",
       " Alias Field for ('index', 'path_element_x') ('flash', 'path_element_x'): (units: 'cm'),\n",
       " Alias Field for ('index', 'cell_volume') ('flash', 'cell_volume'): (units: 'cm**3'),\n",
       " Alias Field for ('index', 'dz') ('flash', 'dz'): (units: 'cm'),\n",
       " Alias Field for ('index', 'cell_volume') ('flash', 'volume'): (units: 'cm**3'),\n",
       " Alias Field for ('index', 'vertex_x') ('flash', 'vertex_x'): (units: 'cm'),\n",
       " Alias Field for ('index', 'dy') ('flash', 'dy'): (units: 'cm'),\n",
       " Alias Field for ('index', 'dx') ('flash', 'dx'): (units: 'cm'),\n",
       " Alias Field for ('index', 'y') ('flash', 'y'): (units: 'cm'),\n",
       " Alias Field for ('index', 'z') ('flash', 'z'): (units: 'cm'),\n",
       " Alias Field for ('index', 'vertex_y') ('flash', 'vertex_y'): (units: 'cm'),\n",
       " Alias Field for ('index', 'path_element_z') ('flash', 'path_element_z'): (units: 'cm')]"
      ]
     },
     "execution_count": 4,
     "metadata": {},
     "output_type": "execute_result"
    }
   ],
   "source": [
    "list(ds.fields.flash)"
   ]
  },
  {
   "cell_type": "code",
   "execution_count": 5,
   "id": "5f3aac32-b96b-4454-94bc-ebd46f85cf98",
   "metadata": {},
   "outputs": [
    {
     "name": "stdout",
     "output_type": "stream",
     "text": [
      "[288 272 288]\n"
     ]
    }
   ],
   "source": [
    "print(ds.domain_dimensions)\n",
    "domain_left_edge = [-0.6, -0.075, -0.6]    # from info printed in yt.load"
   ]
  },
  {
   "cell_type": "code",
   "execution_count": 6,
   "id": "b166e997-c127-4a58-b258-30c0564c067e",
   "metadata": {},
   "outputs": [],
   "source": [
    "# this is from the yt documentation\n",
    "\n",
    "level = 2\n",
    "dims = ds.domain_dimensions * ds.refine_by**level\n",
    "\n",
    "# We construct an object that describes the data region and structure we want\n",
    "# In this case, we want all data up to the maximum \"level\" of refinement\n",
    "# across the entire simulation volume.  Higher levels than this will not\n",
    "# contribute to our covering grid.\n",
    "all_data = ds.covering_grid(\n",
    "    level,\n",
    "    left_edge=domain_left_edge,\n",
    "    dims=dims,\n",
    "    # And any fields to preload (this is optional!)\n",
    ")"
   ]
  },
  {
   "cell_type": "code",
   "execution_count": 7,
   "id": "0e5e800e-c9e3-4165-a2a7-cc4632cb734a",
   "metadata": {},
   "outputs": [
    {
     "name": "stdout",
     "output_type": "stream",
     "text": [
      "<yt.units.UnitContainer object at 0x783f6893d4b0>\n",
      "1.0 cm\n",
      "1.0 g\n",
      "[1152 1088 1152]\n",
      "[288 272 288]\n",
      "2\n"
     ]
    }
   ],
   "source": [
    "# relevant vars\n",
    "\n",
    "print(ds.units)\n",
    "print(ds.length_unit)\n",
    "print(ds.mass_unit)\n",
    "print(dims)\n",
    "print(ds.domain_dimensions)\n",
    "print(ds.refine_by)"
   ]
  },
  {
   "cell_type": "code",
   "execution_count": 8,
   "id": "64d0892e-03b5-48f9-a956-9f7a727381ee",
   "metadata": {},
   "outputs": [],
   "source": [
    "data_level0 = ds.covering_grid(\n",
    "    1,\n",
    "    left_edge=domain_left_edge,\n",
    "    dims=ds.domain_dimensions\n",
    ")"
   ]
  },
  {
   "cell_type": "code",
   "execution_count": 9,
   "id": "794c625c-056b-495d-b6c8-fafbf26a6a9a",
   "metadata": {},
   "outputs": [
    {
     "name": "stdout",
     "output_type": "stream",
     "text": [
      "(288, 272)\n",
      "(288, 272, 288)\n"
     ]
    }
   ],
   "source": [
    "# check shape\n",
    "\n",
    "print(data_level0['flash', 'tele'][:, :, 0].shape)\n",
    "print(data_level0['index', 'cell_volume'].shape)"
   ]
  },
  {
   "cell_type": "code",
   "execution_count": 10,
   "id": "b82c18e8-121c-4c49-b571-3530209e516f",
   "metadata": {},
   "outputs": [],
   "source": [
    "# we can create a df for any any field in ds.fields.flash\n",
    "ye = pd.DataFrame(data_level0['flash', 'ye'][:, :, 0]) # why is this taking the zeroth index?\n",
    "tion = pd.DataFrame(data_level0['flash', 'tion'][:, :, 0])"
   ]
  },
  {
   "cell_type": "code",
   "execution_count": 11,
   "id": "035931be-c7b3-47da-aa59-85f5ed32858d",
   "metadata": {},
   "outputs": [
    {
     "data": {
      "text/plain": [
       "<bound method NDFrame.head of        0      1      2      3      4      5      6      7      8      9    \\\n",
       "0    1.783  1.783  1.783  1.783  1.783  1.783  1.783  1.783  1.783  1.783   \n",
       "1    1.783  1.783  1.783  1.783  1.783  1.783  1.783  1.783  1.783  1.783   \n",
       "2    1.783  1.783  1.783  1.783  1.783  1.783  1.783  1.783  1.783  1.783   \n",
       "3    1.783  1.783  1.783  1.783  1.783  1.783  1.783  1.783  1.783  1.783   \n",
       "4    1.783  1.783  1.783  1.783  1.783  1.783  1.783  1.783  1.783  1.783   \n",
       "..     ...    ...    ...    ...    ...    ...    ...    ...    ...    ...   \n",
       "283  1.783  1.783  1.783  1.783  1.783  1.783  1.783  1.783  1.783  1.783   \n",
       "284  1.783  1.783  1.783  1.783  1.783  1.783  1.783  1.783  1.783  1.783   \n",
       "285  1.783  1.783  1.783  1.783  1.783  1.783  1.783  1.783  1.783  1.783   \n",
       "286  1.783  1.783  1.783  1.783  1.783  1.783  1.783  1.783  1.783  1.783   \n",
       "287  1.783  1.783  1.783  1.783  1.783  1.783  1.783  1.783  1.783  1.783   \n",
       "\n",
       "     ...       262       263       264       265       266       267  \\\n",
       "0    ...  0.000037  0.000037  0.000037  0.000037  0.000037  0.000037   \n",
       "1    ...  0.000037  0.000037  0.000037  0.000037  0.000037  0.000037   \n",
       "2    ...  0.000037  0.000037  0.000037  0.000037  0.000037  0.000037   \n",
       "3    ...  0.000037  0.000037  0.000037  0.000037  0.000037  0.000037   \n",
       "4    ...  0.000037  0.000037  0.000037  0.000037  0.000037  0.000037   \n",
       "..   ...       ...       ...       ...       ...       ...       ...   \n",
       "283  ...  0.000032  0.000032  0.000032  0.000032  0.000032  0.000032   \n",
       "284  ...  0.000032  0.000032  0.000032  0.000032  0.000032  0.000032   \n",
       "285  ...  0.000032  0.000032  0.000032  0.000032  0.000032  0.000032   \n",
       "286  ...  0.000031  0.000031  0.000031  0.000031  0.000031  0.000031   \n",
       "287  ...  0.000030  0.000030  0.000030  0.000030  0.000030  0.000030   \n",
       "\n",
       "          268       269       270       271  \n",
       "0    0.000037  0.000037  0.000037  0.000037  \n",
       "1    0.000037  0.000037  0.000037  0.000037  \n",
       "2    0.000037  0.000037  0.000037  0.000037  \n",
       "3    0.000037  0.000037  0.000037  0.000037  \n",
       "4    0.000037  0.000037  0.000037  0.000037  \n",
       "..        ...       ...       ...       ...  \n",
       "283  0.000032  0.000032  0.000032  0.000032  \n",
       "284  0.000032  0.000032  0.000032  0.000032  \n",
       "285  0.000032  0.000032  0.000032  0.000032  \n",
       "286  0.000031  0.000031  0.000031  0.000031  \n",
       "287  0.000030  0.000030  0.000030  0.000029  \n",
       "\n",
       "[288 rows x 272 columns]>"
      ]
     },
     "execution_count": 11,
     "metadata": {},
     "output_type": "execute_result"
    }
   ],
   "source": [
    "density = pd.DataFrame(data_level0['flash', 'dens'][:, :, -1])\n",
    "trad = pd.DataFrame(data_level0['flash', 'trad'][:, :, -1])\n",
    "\n",
    "cell_volume = pd.DataFrame(data_level0['index', 'cell_volume'][:,:,-1])\n",
    "density.head"
   ]
  },
  {
   "cell_type": "code",
   "execution_count": 12,
   "id": "615d7435",
   "metadata": {},
   "outputs": [
    {
     "ename": "AttributeError",
     "evalue": "module 'yt' has no attribute 'sliceplots'",
     "output_type": "error",
     "traceback": [
      "\u001b[0;31m---------------------------------------------------------------------------\u001b[0m",
      "\u001b[0;31mAttributeError\u001b[0m                            Traceback (most recent call last)",
      "Cell \u001b[0;32mIn[12], line 1\u001b[0m\n\u001b[0;32m----> 1\u001b[0m \u001b[43myt\u001b[49m\u001b[38;5;241;43m.\u001b[39;49m\u001b[43msliceplots\u001b[49m()\n",
      "\u001b[0;31mAttributeError\u001b[0m: module 'yt' has no attribute 'sliceplots'"
     ]
    }
   ],
   "source": [
    "yt.sliceplot()"
   ]
  },
  {
   "cell_type": "code",
   "execution_count": 13,
   "id": "58a919d5-c31f-49c6-a74c-9cc3a219726e",
   "metadata": {},
   "outputs": [],
   "source": [
    "density.to_csv(\"dens_grid.csv\", index=False)"
   ]
  },
  {
   "cell_type": "code",
   "execution_count": 14,
   "id": "e283b44b",
   "metadata": {},
   "outputs": [],
   "source": [
    "density.to_hdf(\"dens_grid.h5\", key='density')"
   ]
  }
 ],
 "metadata": {
  "kernelspec": {
   "display_name": "Python 3 (ipykernel)",
   "language": "python",
   "name": "python3"
  },
  "language_info": {
   "codemirror_mode": {
    "name": "ipython",
    "version": 3
   },
   "file_extension": ".py",
   "mimetype": "text/x-python",
   "name": "python",
   "nbconvert_exporter": "python",
   "pygments_lexer": "ipython3",
   "version": "3.10.12"
  }
 },
 "nbformat": 4,
 "nbformat_minor": 5
}

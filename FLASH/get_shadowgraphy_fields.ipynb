{
 "cells": [
  {
   "cell_type": "code",
   "execution_count": 1,
   "metadata": {},
   "outputs": [
    {
     "name": "stderr",
     "output_type": "stream",
     "text": [
      "yt : [INFO     ] 2025-02-04 17:51:02,875 Particle file found: MagShockZ_hdf5_chk_0028\n",
      "yt : [INFO     ] 2025-02-04 17:51:03,003 Parameters: current_time              = 1.0532564210672338e-08\n",
      "yt : [INFO     ] 2025-02-04 17:51:03,004 Parameters: domain_dimensions         = [384 496 384]\n",
      "yt : [INFO     ] 2025-02-04 17:51:03,004 Parameters: domain_left_edge          = [-0.8   -0.075 -0.8  ]\n",
      "yt : [INFO     ] 2025-02-04 17:51:03,004 Parameters: domain_right_edge         = [0.8 2.  0.8]\n",
      "yt : [INFO     ] 2025-02-04 17:51:03,004 Parameters: cosmological_simulation   = 0\n"
     ]
    }
   ],
   "source": [
    "import numpy as np\n",
    "from pathlib import Path\n",
    "import matplotlib.pyplot as plt\n",
    "import yt\n",
    "\n",
    "import sys\n",
    "sys.path.append(\"../src\")\n",
    "from load_derived_FLASH_fields import derive_fields\n",
    "\n",
    "plot_path = Path(\"~/shared/data/VAC_DEREK3D_20um/MagShockZ_hdf5_chk_0028\")\n",
    "ds = derive_fields(plot_path)"
   ]
  },
  {
   "cell_type": "code",
   "execution_count": 3,
   "metadata": {},
   "outputs": [
    {
     "name": "stderr",
     "output_type": "stream",
     "text": [
      "yt : [INFO     ] 2025-02-04 16:15:43,502 xlim = -0.800000 0.800000\n",
      "yt : [INFO     ] 2025-02-04 16:15:43,503 ylim = -0.075000 2.000000\n",
      "yt : [INFO     ] 2025-02-04 16:15:43,504 xlim = -0.800000 0.800000\n",
      "yt : [INFO     ] 2025-02-04 16:15:43,504 ylim = -0.075000 2.000000\n",
      "yt : [INFO     ] 2025-02-04 16:15:43,504 Making a fixed resolution buffer of (('gas', 'density')) 800 by 800\n"
     ]
    }
   ],
   "source": [
    "yt.SlicePlot(ds, \"z\", \"density\", origin=\"native\");"
   ]
  },
  {
   "cell_type": "code",
   "execution_count": 16,
   "metadata": {},
   "outputs": [],
   "source": [
    "level = 0\n",
    "dims = ds.domain_dimensions * ds.refine_by**level\n",
    "\n",
    "# We construct an object that describes the data region and structure we want\n",
    "# In this case, we want all data up to the maximum \"level\" of refinement\n",
    "# across the entire simulation volume.  Higher levels than this will not\n",
    "# contribute to our covering grid.\n",
    "all_data = ds.covering_grid(\n",
    "    level,\n",
    "    left_edge=ds.domain_left_edge,\n",
    "    dims=dims,\n",
    "    # And any fields to preload (this is optional!)\n",
    ")"
   ]
  },
  {
   "cell_type": "code",
   "execution_count": 20,
   "metadata": {},
   "outputs": [],
   "source": [
    "edens = all_data[\"edens\"]\n",
    "edens_sampled = edens[::3, ::3, ::3]"
   ]
  },
  {
   "cell_type": "code",
   "execution_count": null,
   "metadata": {},
   "outputs": [],
   "source": [
    "np.save(\"edens.npy\", edens_sampled)"
   ]
  },
  {
   "cell_type": "code",
   "execution_count": 15,
   "metadata": {},
   "outputs": [
    {
     "data": {
      "text/plain": [
       "73138176"
      ]
     },
     "execution_count": 15,
     "metadata": {},
     "output_type": "execute_result"
    }
   ],
   "source": [
    "edens.size\n",
    "# plt.imshow(edens[:, :, edens.shape[2]//2])\n",
    "# plt.colorbar()"
   ]
  },
  {
   "cell_type": "code",
   "execution_count": 21,
   "metadata": {},
   "outputs": [],
   "source": []
  },
  {
   "cell_type": "code",
   "execution_count": 23,
   "metadata": {},
   "outputs": [
    {
     "data": {
      "text/plain": [
       "<matplotlib.image.AxesImage at 0x772a00289df0>"
      ]
     },
     "execution_count": 23,
     "metadata": {},
     "output_type": "execute_result"
    },
    {
     "data": {
      "image/png": "[encoded data removed]",
      "text/plain": [
       "<Figure size 640x480 with 1 Axes>"
      ]
     },
     "metadata": {},
     "output_type": "display_data"
    }
   ],
   "source": []
  },
  {
   "cell_type": "code",
   "execution_count": null,
   "metadata": {},
   "outputs": [],
   "source": []
  }
 ],
 "metadata": {
  "kernelspec": {
   "display_name": "FLASH-analysis",
   "language": "python",
   "name": "python3"
  },
  "language_info": {
   "codemirror_mode": {
    "name": "ipython",
    "version": 3
   },
   "file_extension": ".py",
   "mimetype": "text/x-python",
   "name": "python",
   "nbconvert_exporter": "python",
   "pygments_lexer": "ipython3",
   "version": "3.12.3"
  }
 },
 "nbformat": 4,
 "nbformat_minor": 2
}

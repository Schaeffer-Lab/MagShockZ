{
 "cells": [
  {
   "cell_type": "code",
   "execution_count": 3,
   "metadata": {},
   "outputs": [
    {
     "name": "stdout",
     "output_type": "stream",
     "text": [
      "Number of cells:  1.52e+07\n",
      "Number of particles:  4.104e+08\n",
      "Recommended number of GPUs:  3.0\n",
      "Recommended number of nodes: 1.0\n",
      "nx =  4000\n",
      "ny =  3800\n"
     ]
    }
   ],
   "source": [
    "# Ensure that you are only using 80% of GPU memory\n",
    "import numpy as np\n",
    "\n",
    "# x_bounds = [-2522, 2522]\n",
    "x_bounds = [-1000,1000]\n",
    "# x_bounds = [-2000,2000]\n",
    "# y_bounds = [36, 4200]\n",
    "# y_bounds = [100,4000]\n",
    "# y_bounds = [100, 3000]\n",
    "y_bounds = [100, 2000]\n",
    "\n",
    "resolution = 2 # This resolves the electron skin depth assuming a density of 200 in the piston\n",
    "\n",
    "n_cells = (x_bounds[1]-x_bounds[0])*(y_bounds[1]-y_bounds[0])*(resolution**2)\n",
    "print(\"Number of cells: \", np.format_float_scientific(n_cells))\n",
    "\n",
    "particles_per_cell = 9\n",
    "n_species = 3\n",
    "\n",
    "n_particles = n_cells * particles_per_cell * n_species # we need to allocate for twice as many particles\n",
    "n_bytes_particles = n_particles* 2 * 70 # maria says 70 bytes per particle\n",
    "\n",
    "max_bytes_per_GPU = 16e9/.8 # 80% of 16GB\n",
    "print(\"Number of particles: \", np.format_float_scientific(n_particles,3))\n",
    "\n",
    "print(\"Recommended number of GPUs: \", np.ceil(n_bytes_particles/max_bytes_per_GPU))\n",
    "print(\"Recommended number of nodes:\", np.ceil(n_bytes_particles/max_bytes_per_GPU/6))\n",
    "\n",
    "print(\"nx = \", (x_bounds[1]-x_bounds[0])*resolution)\n",
    "print(\"ny = \", (y_bounds[1]-y_bounds[0])*resolution)"
   ]
  },
  {
   "cell_type": "code",
   "execution_count": 5,
   "metadata": {},
   "outputs": [
    {
     "name": "stdout",
     "output_type": "stream",
     "text": [
      "Number of tiles in each direction  122.0\n",
      "n_tiles =  16384\n",
      "Is this more than the minimum: yes\n"
     ]
    }
   ],
   "source": [
    "n_tiles_min = n_cells / 1024\n",
    "\n",
    "print(\"Number of tiles in each direction \", np.ceil(np.sqrt(n_tiles_min)))\n",
    "\n",
    "# Just keep typing in powers of two until you get n_tiles > n_tiles_min\n",
    "n_tiles_x = 128\n",
    "n_tiles_y = 128\n",
    "n_tiles = n_tiles_x * n_tiles_y\n",
    "print(\"n_tiles = \", n_tiles_x * n_tiles_y)\n",
    "print(f\"Is this more than the minimum: {'yes' if n_tiles > n_tiles_min else 'no'}\")"
   ]
  },
  {
   "cell_type": "code",
   "execution_count": 90,
   "metadata": {},
   "outputs": [
    {
     "data": {
      "text/plain": [
       "0.07071067811865475"
      ]
     },
     "execution_count": 90,
     "metadata": {},
     "output_type": "execute_result"
    }
   ],
   "source": [
    "1/np.sqrt(200)"
   ]
  },
  {
   "cell_type": "code",
   "execution_count": 91,
   "metadata": {},
   "outputs": [
    {
     "name": "stdout",
     "output_type": "stream",
     "text": [
      "Particles per tile:  8350.0\n",
      "You should set num_par_max to be 2x this:  16700.0\n"
     ]
    }
   ],
   "source": [
    "particles_per_tile = n_particles/n_tiles/n_species\n",
    "print(\"Particles per tile: \", np.ceil(particles_per_tile))\n",
    "print(\"You should set num_par_max to be 2x this: \", np.ceil(2*particles_per_tile))"
   ]
  },
  {
   "cell_type": "code",
   "execution_count": 68,
   "metadata": {},
   "outputs": [
    {
     "name": "stdout",
     "output_type": "stream",
     "text": [
      "dt =  0.07071067811865475\n",
      "0.07071067811865475\n"
     ]
    }
   ],
   "source": [
    "dt = 1/resolution/np.sqrt(2)\n",
    "print(\"dt = \", dt)\n",
    "print(1/np.sqrt(200))"
   ]
  }
 ],
 "metadata": {
  "kernelspec": {
   "display_name": "FLASH-analysis",
   "language": "python",
   "name": "python3"
  },
  "language_info": {
   "codemirror_mode": {
    "name": "ipython",
    "version": 3
   },
   "file_extension": ".py",
   "mimetype": "text/x-python",
   "name": "python",
   "nbconvert_exporter": "python",
   "pygments_lexer": "ipython3",
   "version": "3.12.3"
  }
 },
 "nbformat": 4,
 "nbformat_minor": 2
}

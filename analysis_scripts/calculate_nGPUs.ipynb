{
 "cells": [
  {
   "cell_type": "code",
   "execution_count": 2,
   "metadata": {},
   "outputs": [
    {
     "name": "stdout",
     "output_type": "stream",
     "text": [
      "Number of cells:  4.116630336e+09\n",
      "Number of particles:  3.952e+11\n",
      "Recommended number of GPUs:  1384.0\n",
      "Recommended number of nodes: 231.0\n"
     ]
    }
   ],
   "source": [
    "# Ensure that you are only using 80% of GPU memory\n",
    "import numpy as np\n",
    "\n",
    "x_bounds = [-2522, 2522]\n",
    "# x_bounds = [-500,500]\n",
    "y_bounds = [36, 4200]\n",
    "# y_bounds = [100,800]\n",
    "\n",
    "resolution = 14 # This resolves the electron skin depth assuming a density of 200 in the piston\n",
    "\n",
    "n_cells = (x_bounds[1]-x_bounds[0])*(y_bounds[1]-y_bounds[0])*(resolution**2)\n",
    "print(\"Number of cells: \", np.format_float_scientific(n_cells))\n",
    "\n",
    "particles_per_cell = 32\n",
    "n_species = 3\n",
    "\n",
    "n_particles = n_cells * particles_per_cell * n_species\n",
    "n_bytes_particles = n_particles * 70\n",
    "\n",
    "max_bytes_per_GPU = 16e9/.8 # 80% of 16GB\n",
    "print(\"Number of particles: \", np.format_float_scientific(n_particles,3))\n",
    "\n",
    "print(\"Recommended number of GPUs: \", np.ceil(n_bytes_particles/max_bytes_per_GPU))\n",
    "print(\"Recommended number of nodes:\", np.ceil(n_bytes_particles/max_bytes_per_GPU/6))"
   ]
  },
  {
   "cell_type": "code",
   "execution_count": 2,
   "metadata": {},
   "outputs": [
    {
     "name": "stdout",
     "output_type": "stream",
     "text": [
      "Number of tiles in each direction  366.03876160865804\n",
      "131072\n",
      "133984.375\n"
     ]
    }
   ],
   "source": [
    "n_tiles = n_cells/1024\n",
    "print(\"Number of tiles in each direction \", np.sqrt(n_tiles))\n",
    "\n",
    "print(256*512)\n",
    "print(n_tiles)"
   ]
  },
  {
   "cell_type": "code",
   "execution_count": null,
   "metadata": {},
   "outputs": [],
   "source": []
  }
 ],
 "metadata": {
  "kernelspec": {
   "display_name": "FLASH-analysis",
   "language": "python",
   "name": "python3"
  },
  "language_info": {
   "codemirror_mode": {
    "name": "ipython",
    "version": 3
   },
   "file_extension": ".py",
   "mimetype": "text/x-python",
   "name": "python",
   "nbconvert_exporter": "python",
   "pygments_lexer": "ipython3",
   "version": "3.12.3"
  }
 },
 "nbformat": 4,
 "nbformat_minor": 2
}

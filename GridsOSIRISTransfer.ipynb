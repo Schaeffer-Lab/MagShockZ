{
 "cells": [
  {
   "cell_type": "markdown",
   "id": "c0313b00-3d1e-49d6-aeff-0c12ef27880b",
   "metadata": {},
   "source": [
    "## Extract FLASH Data in yt\n",
    "Mirielle Wong\n",
    "\n",
    "6/21/24\n",
    "\n",
    "Use yt's covering_grid class to extract data from FLASH."
   ]
  },
  {
   "cell_type": "code",
   "execution_count": 62,
   "id": "ddb7b038-d764-4a98-bd78-a4dfe18d51e7",
   "metadata": {},
   "outputs": [],
   "source": [
    "# https://yt-project.org/\n",
    "\n",
    "import yt\n",
    "import numpy as np\n",
    "import pandas as pd\n",
    "import matplotlib.pyplot as plt\n",
    "\n",
    "from datetime import datetime"
   ]
  },
  {
   "cell_type": "code",
   "execution_count": 36,
   "id": "a0a9f295-7a11-4baf-b513-154ad8faecce",
   "metadata": {},
   "outputs": [],
   "source": [
    "plot_path = \"./OSIRIS_transfer/MAGON/MagShockZ_hdf5_plt_cnt_0004\""
   ]
  },
  {
   "cell_type": "code",
   "execution_count": 6,
   "id": "2a8e6a9d-2eb9-49a8-a4b2-ea1b211a9f98",
   "metadata": {},
   "outputs": [
    {
     "name": "stderr",
     "output_type": "stream",
     "text": [
      "yt : [INFO     ] 2024-06-21 12:40:25,600 Parameters: current_time              = 1.5001873777002105e-09\n",
      "yt : [INFO     ] 2024-06-21 12:40:25,600 Parameters: domain_dimensions         = [288 272 288]\n",
      "yt : [INFO     ] 2024-06-21 12:40:25,601 Parameters: domain_left_edge          = [-0.6   -0.075 -0.6  ]\n",
      "yt : [INFO     ] 2024-06-21 12:40:25,601 Parameters: domain_right_edge         = [0.6 1.  0.6]\n",
      "yt : [INFO     ] 2024-06-21 12:40:25,601 Parameters: cosmological_simulation   = 0\n"
     ]
    }
   ],
   "source": [
    "ds = yt.load(plot_path)"
   ]
  },
  {
   "cell_type": "code",
   "execution_count": 7,
   "id": "88390df9-4bee-4dcb-814b-4c03f9e88890",
   "metadata": {},
   "outputs": [
    {
     "data": {
      "text/plain": [
       "[On-Disk Field ('flash', 'cham'): (units: '', display_name: 'Chamber Material Fraction'),\n",
       " On-Disk Field ('flash', 'dens'): (units: 'code_mass/code_length**3'),\n",
       " On-Disk Field ('flash', 'depo'): (units: 'code_length**2/code_time**2'),\n",
       " On-Disk Field ('flash', 'magp'): (units: 'code_mass/(code_length*code_time**2)'),\n",
       " On-Disk Field ('flash', 'magx'): (units: 'code_magnetic', display_name: 'B_x'),\n",
       " On-Disk Field ('flash', 'magy'): (units: 'code_magnetic', display_name: 'B_y'),\n",
       " On-Disk Field ('flash', 'sumy'): (units: ''),\n",
       " On-Disk Field ('flash', 'targ'): (units: '', display_name: 'Target Material Fraction'),\n",
       " On-Disk Field ('flash', 'tele'): (units: 'code_temperature'),\n",
       " On-Disk Field ('flash', 'tion'): (units: 'code_temperature'),\n",
       " On-Disk Field ('flash', 'trad'): (units: 'code_temperature'),\n",
       " On-Disk Field ('flash', 'ye'): (units: '', display_name: 'Y_e'),\n",
       " Alias Field for ('index', 'cell_volume') ('flash', 'volume'): (units: 'cm**3'),\n",
       " Alias Field for ('index', 'z') ('flash', 'z'): (units: 'cm'),\n",
       " Alias Field for ('index', 'y') ('flash', 'y'): (units: 'cm'),\n",
       " Alias Field for ('index', 'dx') ('flash', 'dx'): (units: 'cm'),\n",
       " Alias Field for ('index', 'vertex_y') ('flash', 'vertex_y'): (units: 'cm'),\n",
       " Alias Field for ('index', 'cell_volume') ('flash', 'cell_volume'): (units: 'cm**3'),\n",
       " Alias Field for ('index', 'path_element_z') ('flash', 'path_element_z'): (units: 'cm'),\n",
       " Alias Field for ('index', 'x') ('flash', 'x'): (units: 'cm'),\n",
       " Alias Field for ('index', 'path_element_x') ('flash', 'path_element_x'): (units: 'cm'),\n",
       " Alias Field for ('index', 'dy') ('flash', 'dy'): (units: 'cm'),\n",
       " Alias Field for ('index', 'vertex_z') ('flash', 'vertex_z'): (units: 'cm'),\n",
       " Alias Field for ('index', 'dz') ('flash', 'dz'): (units: 'cm'),\n",
       " Alias Field for ('index', 'path_element_y') ('flash', 'path_element_y'): (units: 'cm'),\n",
       " Alias Field for ('index', 'vertex_x') ('flash', 'vertex_x'): (units: 'cm')]"
      ]
     },
     "execution_count": 7,
     "metadata": {},
     "output_type": "execute_result"
    }
   ],
   "source": [
    "list(ds.fields.flash)"
   ]
  },
  {
   "cell_type": "code",
   "execution_count": 37,
   "id": "5f3aac32-b96b-4454-94bc-ebd46f85cf98",
   "metadata": {},
   "outputs": [
    {
     "name": "stdout",
     "output_type": "stream",
     "text": [
      "[288 272 288]\n"
     ]
    }
   ],
   "source": [
    "print(ds.domain_dimensions)\n",
    "domain_left_edge = [-0.6, -0.075, -0.6]    # from info printed in yt.load"
   ]
  },
  {
   "cell_type": "code",
   "execution_count": 44,
   "id": "b166e997-c127-4a58-b258-30c0564c067e",
   "metadata": {},
   "outputs": [],
   "source": [
    "# this is from the yt documentation\n",
    "\n",
    "level = 2\n",
    "dims = ds.domain_dimensions * ds.refine_by**level\n",
    "\n",
    "# We construct an object that describes the data region and structure we want\n",
    "# In this case, we want all data up to the maximum \"level\" of refinement\n",
    "# across the entire simulation volume.  Higher levels than this will not\n",
    "# contribute to our covering grid.\n",
    "all_data = ds.covering_grid(\n",
    "    level,\n",
    "    left_edge=domain_left_edge,\n",
    "    dims=dims,\n",
    "    # And any fields to preload (this is optional!)\n",
    ")"
   ]
  },
  {
   "cell_type": "code",
   "execution_count": 50,
   "id": "0e5e800e-c9e3-4165-a2a7-cc4632cb734a",
   "metadata": {},
   "outputs": [
    {
     "name": "stdout",
     "output_type": "stream",
     "text": [
      "code_length\n",
      "1.0 cm\n",
      "1.0 g\n",
      "[1152 1088 1152]\n",
      "[288 272 288]\n",
      "2\n"
     ]
    }
   ],
   "source": [
    "# relevant vars\n",
    "\n",
    "print(x.units)\n",
    "print(ds.length_unit)\n",
    "print(ds.mass_unit)\n",
    "print(dims)\n",
    "print(ds.domain_dimensions)\n",
    "print(ds.refine_by)"
   ]
  },
  {
   "cell_type": "code",
   "execution_count": 51,
   "id": "64d0892e-03b5-48f9-a956-9f7a727381ee",
   "metadata": {},
   "outputs": [],
   "source": [
    "data_level0 = ds.covering_grid(\n",
    "    0,\n",
    "    left_edge=domain_left_edge,\n",
    "    dims=ds.domain_dimensions\n",
    ")"
   ]
  },
  {
   "cell_type": "code",
   "execution_count": 52,
   "id": "794c625c-056b-495d-b6c8-fafbf26a6a9a",
   "metadata": {},
   "outputs": [
    {
     "data": {
      "text/plain": [
       "(288, 272, 288)"
      ]
     },
     "execution_count": 52,
     "metadata": {},
     "output_type": "execute_result"
    }
   ],
   "source": [
    "# check shape\n",
    "data_level0['flash', 'dens'].shape"
   ]
  },
  {
   "cell_type": "code",
   "execution_count": 61,
   "id": "b82c18e8-121c-4c49-b571-3530209e516f",
   "metadata": {},
   "outputs": [],
   "source": [
    "# we can create a df for any any field in ds.fields.flash\n",
    "ye = pd.DataFrame(data_level0['flash', 'ye'][:, :, 0])\n",
    "tion = pd.DataFrame(data_level0['flash', 'tion'][:, :, 0])"
   ]
  },
  {
   "cell_type": "code",
   "execution_count": 56,
   "id": "035931be-c7b3-47da-aa59-85f5ed32858d",
   "metadata": {},
   "outputs": [],
   "source": [
    "density = pd.DataFrame(data_level0['flash', 'dens'][:, :, 0])\n",
    "trad = pd.DataFrame(data_level0['flash', 'trad'][:, :, 0])"
   ]
  },
  {
   "cell_type": "code",
   "execution_count": 58,
   "id": "3193a39d-3ce0-4606-948a-3a3b4ac2fc2e",
   "metadata": {
    "scrolled": true
   },
   "outputs": [
    {
     "data": {
      "text/html": [
       "<div>\n",
       "<style scoped>\n",
       "    .dataframe tbody tr th:only-of-type {\n",
       "        vertical-align: middle;\n",
       "    }\n",
       "\n",
       "    .dataframe tbody tr th {\n",
       "        vertical-align: top;\n",
       "    }\n",
       "\n",
       "    .dataframe thead th {\n",
       "        text-align: right;\n",
       "    }\n",
       "</style>\n",
       "<table border=\"1\" class=\"dataframe\">\n",
       "  <thead>\n",
       "    <tr style=\"text-align: right;\">\n",
       "      <th></th>\n",
       "      <th>0</th>\n",
       "      <th>1</th>\n",
       "      <th>2</th>\n",
       "      <th>3</th>\n",
       "      <th>4</th>\n",
       "      <th>5</th>\n",
       "      <th>6</th>\n",
       "      <th>7</th>\n",
       "      <th>8</th>\n",
       "      <th>9</th>\n",
       "      <th>...</th>\n",
       "      <th>262</th>\n",
       "      <th>263</th>\n",
       "      <th>264</th>\n",
       "      <th>265</th>\n",
       "      <th>266</th>\n",
       "      <th>267</th>\n",
       "      <th>268</th>\n",
       "      <th>269</th>\n",
       "      <th>270</th>\n",
       "      <th>271</th>\n",
       "    </tr>\n",
       "  </thead>\n",
       "  <tbody>\n",
       "    <tr>\n",
       "      <th>0</th>\n",
       "      <td>21290.070312</td>\n",
       "      <td>21290.070312</td>\n",
       "      <td>21290.070312</td>\n",
       "      <td>21290.070312</td>\n",
       "      <td>21290.070312</td>\n",
       "      <td>21290.070312</td>\n",
       "      <td>21290.070312</td>\n",
       "      <td>21290.070312</td>\n",
       "      <td>21290.070312</td>\n",
       "      <td>21290.070312</td>\n",
       "      <td>...</td>\n",
       "      <td>222811.109375</td>\n",
       "      <td>222809.390625</td>\n",
       "      <td>222807.718750</td>\n",
       "      <td>222806.078125</td>\n",
       "      <td>222804.531250</td>\n",
       "      <td>222803.046875</td>\n",
       "      <td>222801.656250</td>\n",
       "      <td>222800.406250</td>\n",
       "      <td>222799.343750</td>\n",
       "      <td>222798.578125</td>\n",
       "    </tr>\n",
       "    <tr>\n",
       "      <th>1</th>\n",
       "      <td>21290.070312</td>\n",
       "      <td>21290.070312</td>\n",
       "      <td>21290.070312</td>\n",
       "      <td>21290.070312</td>\n",
       "      <td>21290.070312</td>\n",
       "      <td>21290.070312</td>\n",
       "      <td>21290.070312</td>\n",
       "      <td>21290.070312</td>\n",
       "      <td>21290.070312</td>\n",
       "      <td>21290.070312</td>\n",
       "      <td>...</td>\n",
       "      <td>222812.625000</td>\n",
       "      <td>222810.890625</td>\n",
       "      <td>222809.187500</td>\n",
       "      <td>222807.531250</td>\n",
       "      <td>222805.921875</td>\n",
       "      <td>222804.375000</td>\n",
       "      <td>222802.921875</td>\n",
       "      <td>222801.562500</td>\n",
       "      <td>222800.359375</td>\n",
       "      <td>222799.390625</td>\n",
       "    </tr>\n",
       "    <tr>\n",
       "      <th>2</th>\n",
       "      <td>21290.070312</td>\n",
       "      <td>21290.070312</td>\n",
       "      <td>21290.070312</td>\n",
       "      <td>21290.070312</td>\n",
       "      <td>21290.070312</td>\n",
       "      <td>21290.070312</td>\n",
       "      <td>21290.070312</td>\n",
       "      <td>21290.070312</td>\n",
       "      <td>21290.070312</td>\n",
       "      <td>21290.070312</td>\n",
       "      <td>...</td>\n",
       "      <td>222814.375000</td>\n",
       "      <td>222812.609375</td>\n",
       "      <td>222810.890625</td>\n",
       "      <td>222809.187500</td>\n",
       "      <td>222807.531250</td>\n",
       "      <td>222805.937500</td>\n",
       "      <td>222804.406250</td>\n",
       "      <td>222802.968750</td>\n",
       "      <td>222801.625000</td>\n",
       "      <td>222800.531250</td>\n",
       "    </tr>\n",
       "    <tr>\n",
       "      <th>3</th>\n",
       "      <td>21290.070312</td>\n",
       "      <td>21290.070312</td>\n",
       "      <td>21290.070312</td>\n",
       "      <td>21290.070312</td>\n",
       "      <td>21290.070312</td>\n",
       "      <td>21290.070312</td>\n",
       "      <td>21290.070312</td>\n",
       "      <td>21290.070312</td>\n",
       "      <td>21290.070312</td>\n",
       "      <td>21290.070312</td>\n",
       "      <td>...</td>\n",
       "      <td>222816.203125</td>\n",
       "      <td>222814.421875</td>\n",
       "      <td>222812.671875</td>\n",
       "      <td>222810.937500</td>\n",
       "      <td>222809.250000</td>\n",
       "      <td>222807.593750</td>\n",
       "      <td>222806.015625</td>\n",
       "      <td>222804.500000</td>\n",
       "      <td>222803.078125</td>\n",
       "      <td>222801.859375</td>\n",
       "    </tr>\n",
       "    <tr>\n",
       "      <th>4</th>\n",
       "      <td>21290.070312</td>\n",
       "      <td>21290.070312</td>\n",
       "      <td>21290.070312</td>\n",
       "      <td>21290.070312</td>\n",
       "      <td>21290.070312</td>\n",
       "      <td>21290.070312</td>\n",
       "      <td>21290.070312</td>\n",
       "      <td>21290.070312</td>\n",
       "      <td>21290.070312</td>\n",
       "      <td>21290.070312</td>\n",
       "      <td>...</td>\n",
       "      <td>222818.078125</td>\n",
       "      <td>222816.281250</td>\n",
       "      <td>222814.500000</td>\n",
       "      <td>222812.750000</td>\n",
       "      <td>222811.015625</td>\n",
       "      <td>222809.328125</td>\n",
       "      <td>222807.671875</td>\n",
       "      <td>222806.078125</td>\n",
       "      <td>222804.625000</td>\n",
       "      <td>222803.343750</td>\n",
       "    </tr>\n",
       "  </tbody>\n",
       "</table>\n",
       "<p>5 rows × 272 columns</p>\n",
       "</div>"
      ],
      "text/plain": [
       "            0             1             2             3             4    \\\n",
       "0  21290.070312  21290.070312  21290.070312  21290.070312  21290.070312   \n",
       "1  21290.070312  21290.070312  21290.070312  21290.070312  21290.070312   \n",
       "2  21290.070312  21290.070312  21290.070312  21290.070312  21290.070312   \n",
       "3  21290.070312  21290.070312  21290.070312  21290.070312  21290.070312   \n",
       "4  21290.070312  21290.070312  21290.070312  21290.070312  21290.070312   \n",
       "\n",
       "            5             6             7             8             9    ...  \\\n",
       "0  21290.070312  21290.070312  21290.070312  21290.070312  21290.070312  ...   \n",
       "1  21290.070312  21290.070312  21290.070312  21290.070312  21290.070312  ...   \n",
       "2  21290.070312  21290.070312  21290.070312  21290.070312  21290.070312  ...   \n",
       "3  21290.070312  21290.070312  21290.070312  21290.070312  21290.070312  ...   \n",
       "4  21290.070312  21290.070312  21290.070312  21290.070312  21290.070312  ...   \n",
       "\n",
       "             262            263            264            265            266  \\\n",
       "0  222811.109375  222809.390625  222807.718750  222806.078125  222804.531250   \n",
       "1  222812.625000  222810.890625  222809.187500  222807.531250  222805.921875   \n",
       "2  222814.375000  222812.609375  222810.890625  222809.187500  222807.531250   \n",
       "3  222816.203125  222814.421875  222812.671875  222810.937500  222809.250000   \n",
       "4  222818.078125  222816.281250  222814.500000  222812.750000  222811.015625   \n",
       "\n",
       "             267            268            269            270            271  \n",
       "0  222803.046875  222801.656250  222800.406250  222799.343750  222798.578125  \n",
       "1  222804.375000  222802.921875  222801.562500  222800.359375  222799.390625  \n",
       "2  222805.937500  222804.406250  222802.968750  222801.625000  222800.531250  \n",
       "3  222807.593750  222806.015625  222804.500000  222803.078125  222801.859375  \n",
       "4  222809.328125  222807.671875  222806.078125  222804.625000  222803.343750  \n",
       "\n",
       "[5 rows x 272 columns]"
      ]
     },
     "execution_count": 58,
     "metadata": {},
     "output_type": "execute_result"
    }
   ],
   "source": [
    "trad.head()"
   ]
  },
  {
   "cell_type": "code",
   "execution_count": 51,
   "id": "58a919d5-c31f-49c6-a74c-9cc3a219726e",
   "metadata": {},
   "outputs": [],
   "source": [
    "density.to_csv(\"dens_grid.csv\", index=False)"
   ]
  }
 ],
 "metadata": {
  "kernelspec": {
   "display_name": "Python 3 (ipykernel)",
   "language": "python",
   "name": "python3"
  },
  "language_info": {
   "codemirror_mode": {
    "name": "ipython",
    "version": 3
   },
   "file_extension": ".py",
   "mimetype": "text/x-python",
   "name": "python",
   "nbconvert_exporter": "python",
   "pygments_lexer": "ipython3",
   "version": "3.12.3"
  }
 },
 "nbformat": 4,
 "nbformat_minor": 5
}

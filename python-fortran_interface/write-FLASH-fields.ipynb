{
 "cells": [
  {
   "cell_type": "markdown",
   "id": "c0313b00-3d1e-49d6-aeff-0c12ef27880b",
   "metadata": {},
   "source": [
    "## Extract FLASH Data in yt\n",
    "David Schneidinger\n",
    "\n",
    "9/26/24\n",
    "\n",
    "Use yt's covering_grid class to extract data from FLASH."
   ]
  },
  {
   "cell_type": "code",
   "execution_count": 3,
   "id": "ddb7b038-d764-4a98-bd78-a4dfe18d51e7",
   "metadata": {},
   "outputs": [],
   "source": [
    "# https://yt-project.org/\n",
    "\n",
    "import yt\n",
    "import numpy as np\n",
    "import matplotlib.pyplot as plt\n",
    "from pathlib import Path"
   ]
  },
  {
   "cell_type": "code",
   "execution_count": 4,
   "id": "a0a9f295-7a11-4baf-b513-154ad8faecce",
   "metadata": {},
   "outputs": [],
   "source": [
    "# plot_path = \"./OSIRIS_transfer/MAGOFF/MagShockZ_hdf5_plt_cnt_0004\"\n",
    "plot_path = \"~/cellar/OSIRIS_transfer/MAGON/MagShockZ_hdf5_chk_0005\"\n",
    "input_filename = \"magshockz-v2.0.2d\"\n",
    "output_dir = Path(f\"/home/dschneidinger/MagShockZ/input_files/{input_filename}\")\n",
    "if not output_dir.exists():\n",
    "    output_dir.mkdir()"
   ]
  },
  {
   "cell_type": "code",
   "execution_count": 5,
   "id": "2a8e6a9d-2eb9-49a8-a4b2-ea1b211a9f98",
   "metadata": {},
   "outputs": [
    {
     "name": "stderr",
     "output_type": "stream",
     "text": [
      "yt : [INFO     ] 2024-10-16 15:27:16,815 Particle file found: MagShockZ_hdf5_chk_0005\n"
     ]
    },
    {
     "name": "stderr",
     "output_type": "stream",
     "text": [
      "yt : [INFO     ] 2024-10-16 15:27:16,837 Parameters: current_time              = 1.8520020414484505e-09\n",
      "yt : [INFO     ] 2024-10-16 15:27:16,837 Parameters: domain_dimensions         = [288 272 288]\n",
      "yt : [INFO     ] 2024-10-16 15:27:16,837 Parameters: domain_left_edge          = [-0.6   -0.075 -0.6  ]\n",
      "yt : [INFO     ] 2024-10-16 15:27:16,838 Parameters: domain_right_edge         = [0.6 1.  0.6]\n",
      "yt : [INFO     ] 2024-10-16 15:27:16,838 Parameters: cosmological_simulation   = 0\n"
     ]
    }
   ],
   "source": [
    "# Certain fields are not directly output by FLASH, but can be derived from the fields that are output.\n",
    "# For example, the number density of electrons and each ion species\n",
    "# Everything, with the exception of the thermal velocities (which are in osiris units), are in cgs\n",
    "\n",
    "import sys\n",
    "sys.path.append(\"../src\")\n",
    "from load_derived_FLASH_fields import derive_fields\n",
    "ds = derive_fields(plot_path,rqm=100)"
   ]
  },
  {
   "cell_type": "code",
   "execution_count": 10,
   "id": "b166e997-c127-4a58-b258-30c0564c067e",
   "metadata": {},
   "outputs": [
    {
     "name": "stdout",
     "output_type": "stream",
     "text": [
      "<class 'yt.data_objects.construction_data_containers.YTCoveringGrid'>\n"
     ]
    }
   ],
   "source": [
    "# this is from the yt documentation\n",
    "\n",
    "level = 2\n",
    "dims = ds.domain_dimensions * ds.refine_by**level\n",
    "\n",
    "# We construct an object that describes the data region and structure we want\n",
    "# In this case, we want all data up to the maximum \"level\" of refinement\n",
    "# across the entire simulation volume.  Higher levels than this will not\n",
    "# contribute to our covering grid.\n",
    "\n",
    "all_data = ds.covering_grid(\n",
    "    level,\n",
    "    left_edge=[-0.6, -0.075, -0.6],\n",
    "    dims=dims,\n",
    "    # And any fields to preload (this is optional!)\n",
    ")\n",
    "print(type(all_data))   "
   ]
  },
  {
   "cell_type": "code",
   "execution_count": 6,
   "id": "26e04b46",
   "metadata": {},
   "outputs": [
    {
     "name": "stdout",
     "output_type": "stream",
     "text": [
      "ion inertial length 0.021594939868701025 cm\n",
      "FLASH alfven speed: 6.9e+06 cm/s\n",
      "alfven speed in ion inertial length/ion plasma-time 0.00023015919863826265\n",
      "in osiris this would be 0.023015919863826263\n",
      "OSIRIS alfven speed: (0.0020913952814540443, 2) c\n",
      "OSIRIS alfven speed: 6.27e+07 cm/s\n"
     ]
    }
   ],
   "source": [
    "# All of these numbers come from the INITIAL conditions of FLASH, not the actual values at the given time\n",
    "\n",
    "\n",
    "ne_cgs = 5e18 # [cm^-3]\n",
    "e = 4.80320425e-10 # [statC] = [cm^3/2⋅g^1/2⋅s^−1]\n",
    "m_e = 9.1093837139e-28 # [g]\n",
    "c = 2.99792458e10 # [cm/s]\n",
    "kb = 8.617333262e-5 # [eV/K]\n",
    "proton_mass = 1.6726219e-24 # [g]\n",
    "B = 150000 # [Gauss]\n",
    "T_e = 40 # [eV]\n",
    "Al_charge_state = 6\n",
    "\n",
    "rqm = 100 # [m_e]\n",
    "\n",
    "# from Wikipedia\n",
    "aluminum_molecular_weight = 26.981 \n",
    "magnesium_molecular_weight = 24.305\n",
    "\n",
    "\n",
    "omega_pe = np.sqrt(4*np.pi*ne_cgs*e**2/m_e)\n",
    "omega_pi = np.sqrt(4*np.pi*ne_cgs*Al_charge_state*e**2/(proton_mass*aluminum_molecular_weight)) # extra charge state factor got absorbed into ne\n",
    "print(f\"ion inertial length {c/omega_pi} cm\")\n",
    "omega_pi_osiris = np.sqrt(4*np.pi*ne_cgs*e**2/(rqm*m_e))\n",
    "\n",
    "rho_0 = aluminum_molecular_weight*proton_mass*ne_cgs/Al_charge_state\n",
    "alfven_speed = B/np.sqrt(4*np.pi*rho_0) # check this factor of 4pi\n",
    "print(f\"FLASH alfven speed: {np.format_float_scientific(alfven_speed,2)} cm/s\")\n",
    "\n",
    "print(f\"alfven speed in ion inertial length/ion plasma-time {alfven_speed/(c/omega_pi)*omega_pi**-1}\")\n",
    "print(f\"in osiris this would be {(alfven_speed/(c/omega_pi)*omega_pi**-1)*(omega_pe/omega_pi_osiris)**2}\")\n",
    "\n",
    "alfven_speed_osiris = (B/np.sqrt(4*np.pi*ne_cgs*rqm*m_e))/c\n",
    "print(f\"OSIRIS alfven speed: {alfven_speed_osiris,2} c\")\n",
    "print(f\"OSIRIS alfven speed: {np.format_float_scientific(c*alfven_speed_osiris,2)} cm/s\")\n"
   ]
  },
  {
   "cell_type": "code",
   "execution_count": 7,
   "id": "ac4f49ae",
   "metadata": {},
   "outputs": [],
   "source": [
    "# You need to clean up this code later\n",
    "\n",
    "def save_slice(normalizations:dict, target_index:int=84):\n",
    "    '''\n",
    "    args: normalizations: dict, target_index: int\n",
    "    normalizations: dict\n",
    "        key: str, field name\n",
    "        value: float, normalization factor. Note: function automatically divides by this factor\n",
    "    target_index: int\n",
    "        index of the edge of the target\n",
    "\n",
    "    Note: Density data will be output as a numpy array because OSIRIS uses its own interpolator for density data\n",
    "    '''\n",
    "\n",
    "    # We are looking in the x-y plane at z = 0\n",
    "    z_middle_index = dims[2] // 2\n",
    "\n",
    "    # Normalize spatial dimensions to electron inertial length\n",
    "    x = all_data['flash','x'][:,0,0]*omega_pe/c\n",
    "    y = all_data['flash','y'][0,target_index:,0]*omega_pe/c\n",
    "\n",
    "    # Make a directory to hold all of the interpolation objects\n",
    "    interp_dir = output_dir / \"interp\"\n",
    "    if not (interp_dir).exists():\n",
    "        (interp_dir).mkdir()\n",
    "\n",
    "    from scipy.interpolate import RegularGridInterpolator\n",
    "    import pickle\n",
    "    \n",
    "\n",
    "    for field in normalizations.keys():\n",
    "        field_data = np.array(all_data['flash', field][:, target_index:, z_middle_index])/normalizations[field]\n",
    "        if field == 'edens' or field == 'aldens' or field == 'mgdens':\n",
    "            np.save(f\"{interp_dir}/{field}.npy\", field_data)\n",
    "        else:\n",
    "            interp1 = RegularGridInterpolator( (y, x), field_data.T, method='linear', bounds_error=False, fill_value=0 )\n",
    "            with open(f\"{interp_dir}/{field}.pkl\", \"wb\") as f:\n",
    "                pickle.dump(interp1, f)\n",
    "                f.close()"
   ]
  },
  {
   "cell_type": "code",
   "execution_count": 7,
   "id": "7b319f20",
   "metadata": {},
   "outputs": [],
   "source": [
    "# This can take a while and always seems to crash the kernel if you try to do more than 1 or 2. Uncomment as needed\n",
    "\n",
    "\n",
    "# This is normalizing with electron frequency\n",
    "normalizations = {\n",
    "    # 'aldens':ne_cgs, # check this normalization\n",
    "    # 'edens':ne_cgs,\n",
    "    # 'mgdens':ne_cgs,\n",
    "    # 'magx':(omega_pe*m_e*c)/e,\n",
    "    # 'magy':(omega_pe*m_e*c)/e,\n",
    "    # 'magz':(omega_pe*m_e*c)/e,\n",
    "    # 'Ex':(omega_pe*m_e*c)/e*alfven_speed/alfven_speed_osiris,\n",
    "    # 'Ey':(omega_pe*m_e*c)/e*alfven_speed/alfven_speed_osiris, \n",
    "    # 'Ez':(omega_pe*m_e*c)/e*alfven_speed/alfven_speed_osiris,\n",
    "}\n",
    "save_slice(normalizations)\n",
    "\n",
    "# This is normalizing with ion frequency\n",
    "normalizations = {\n",
    "    # 'aldens':ne_cgs, # check this normalization\n",
    "    # 'edens':ne_cgs,\n",
    "    # 'mgdens':ne_cgs,\n",
    "    # 'magx':((omega_pi*omega_pe/omega_pi_osiris)*m_e*c)/e,\n",
    "    # 'magy':((omega_pi*omega_pe/omega_pi_osiris)*m_e*c)/e,\n",
    "    # 'magz':((omega_pi*omega_pe/omega_pi_osiris)*m_e*c)/e,\n",
    "    # 'Ex':((omega_pi*omega_pe/omega_pi_osiris)*m_e*c**2)/e,\n",
    "    # 'Ey':((omega_pi*omega_pe/omega_pi_osiris)*m_e*c**2)/e, \n",
    "    # 'Ez':((omega_pi*omega_pe/omega_pi_osiris)*m_e*c**2)/e,\n",
    "}\n",
    "# save_slice(normalizations)"
   ]
  },
  {
   "cell_type": "code",
   "execution_count": 12,
   "id": "028c38ea",
   "metadata": {},
   "outputs": [],
   "source": [
    "normalizations = {\n",
    "    # 'velx':alfven_speed/alfven_speed_osiris,\n",
    "    # 'vely':alfven_speed/alfven_speed_osiris,\n",
    "    # 'velz':alfven_speed/alfven_speed_osiris,\n",
    "    # 'vthele':c, # already normalized\n",
    "    # 'vthal':c, # already normalized\n",
    "    # 'vthmg':c, # already normalized\n",
    "}\n",
    "save_slice(normalizations)"
   ]
  },
  {
   "cell_type": "code",
   "execution_count": 11,
   "id": "74995aa8",
   "metadata": {},
   "outputs": [
    {
     "name": "stdout",
     "output_type": "stream",
     "text": [
      "Bounds of simulation in ion inertial length: x -27.8,27.8 c/omega_pi\n",
      "Bounds of simulation in ion inertial length: y 0.4,46.3 c/omega_pi\n",
      "\n",
      "Bounds of simulation in osiris units: x -2522.0,2522.0 c/omega_pe\n",
      "Bounds of simulation in osiris units: y 36.0,4206.0 c/omega_pe\n",
      "\n",
      "If we seek to conserve ion inertial length: x -277.6,277.6 c/omega_pe\n",
      "If we seek to conserve ion inertial length: y 3.9,462.8 c/omega_pe\n"
     ]
    }
   ],
   "source": [
    "target_index = 84\n",
    "\n",
    "x_ion = all_data['flash','x'][:,0,0]*omega_pi/c\n",
    "print(f\"Bounds of simulation in ion inertial length: x {round(x_ion.value[0],1)},{round(x_ion.value[-1],1)} c/omega_pi\")\n",
    "y_ion = all_data['flash','y'][0,target_index:,0]*omega_pi/c\n",
    "print(f\"Bounds of simulation in ion inertial length: y {round(y_ion.value[0],1)},{round(y_ion.value[-1],1)} c/omega_pi\")\n",
    "\n",
    "print()\n",
    "\n",
    "x = all_data['flash','x'][:,0,0]*omega_pe/c\n",
    "print(f\"Bounds of simulation in osiris units: x {round(x.value[0],0)},{round(x.value[-1],0)} c/omega_pe\")\n",
    "y = all_data['flash','y'][0,target_index:,0]*omega_pe/c\n",
    "print(f\"Bounds of simulation in osiris units: y {round(y.value[0],0)},{round(y.value[-1],0)} c/omega_pe\")\n",
    "\n",
    "print()\n",
    "\n",
    "x_ion_osiris = all_data['flash','x'][:,0,0]*(omega_pi*omega_pe/omega_pi_osiris)/c\n",
    "print(f\"If we seek to conserve ion inertial length: x {round(x_ion_osiris.value[0],1)},{round(x_ion_osiris.value[-1],1)} c/omega_pe\")\n",
    "y_ion_osiris = all_data['flash','y'][0,target_index:,0]*(omega_pi*omega_pe/omega_pi_osiris)/c\n",
    "print(f\"If we seek to conserve ion inertial length: y {round(y_ion_osiris.value[0],1)},{round(y_ion_osiris.value[-1],1)} c/omega_pe\")\n",
    "\n"
   ]
  },
  {
   "cell_type": "code",
   "execution_count": 9,
   "id": "29639dd1",
   "metadata": {},
   "outputs": [
    {
     "name": "stderr",
     "output_type": "stream",
     "text": [
      "<>:21: SyntaxWarning: invalid escape sequence '\\o'\n",
      "<>:22: SyntaxWarning: invalid escape sequence '\\o'\n",
      "<>:33: SyntaxWarning: invalid escape sequence '\\o'\n",
      "<>:34: SyntaxWarning: invalid escape sequence '\\o'\n",
      "<>:21: SyntaxWarning: invalid escape sequence '\\o'\n",
      "<>:22: SyntaxWarning: invalid escape sequence '\\o'\n",
      "<>:33: SyntaxWarning: invalid escape sequence '\\o'\n",
      "<>:34: SyntaxWarning: invalid escape sequence '\\o'\n",
      "/tmp/ipykernel_750966/2560500566.py:21: SyntaxWarning: invalid escape sequence '\\o'\n",
      "  plt.xlabel(\"x [c/$\\omega_{pe}$]\")\n",
      "/tmp/ipykernel_750966/2560500566.py:22: SyntaxWarning: invalid escape sequence '\\o'\n",
      "  plt.ylabel(\"y [c/$\\omega_{pe}$]\")\n",
      "/tmp/ipykernel_750966/2560500566.py:33: SyntaxWarning: invalid escape sequence '\\o'\n",
      "  plt.xlabel(\"x [c/$\\omega_{pe}$]\")\n",
      "/tmp/ipykernel_750966/2560500566.py:34: SyntaxWarning: invalid escape sequence '\\o'\n",
      "  plt.ylabel(\"y [c/$\\omega_{pe}$]\")\n"
     ]
    },
    {
     "ename": "NameError",
     "evalue": "name 'x' is not defined",
     "output_type": "error",
     "traceback": [
      "\u001b[0;31m---------------------------------------------------------------------------\u001b[0m",
      "\u001b[0;31mNameError\u001b[0m                                 Traceback (most recent call last)",
      "Cell \u001b[0;32mIn[9], line 4\u001b[0m\n\u001b[1;32m      1\u001b[0m \u001b[38;5;28;01mfrom\u001b[39;00m \u001b[38;5;21;01mpathlib\u001b[39;00m \u001b[38;5;28;01mimport\u001b[39;00m Path\n\u001b[1;32m      2\u001b[0m \u001b[38;5;28;01mimport\u001b[39;00m \u001b[38;5;21;01mpickle\u001b[39;00m\n\u001b[0;32m----> 4\u001b[0m X1, X2 \u001b[38;5;241m=\u001b[39m np\u001b[38;5;241m.\u001b[39mmeshgrid( \u001b[43mx\u001b[49m, y, indexing\u001b[38;5;241m=\u001b[39m\u001b[38;5;124m'\u001b[39m\u001b[38;5;124mxy\u001b[39m\u001b[38;5;124m'\u001b[39m )\n\u001b[1;32m      6\u001b[0m \u001b[38;5;66;03m# Change this if looking at another simulation\u001b[39;00m\n\u001b[1;32m      7\u001b[0m interp_dir \u001b[38;5;241m=\u001b[39m output_dir \u001b[38;5;241m/\u001b[39m \u001b[38;5;124m\"\u001b[39m\u001b[38;5;124minterp\u001b[39m\u001b[38;5;124m\"\u001b[39m\n",
      "\u001b[0;31mNameError\u001b[0m: name 'x' is not defined"
     ]
    }
   ],
   "source": [
    "from pathlib import Path\n",
    "import pickle\n",
    "\n",
    "X1, X2 = np.meshgrid( x, y, indexing='xy' )\n",
    "\n",
    "# Change this if looking at another simulation\n",
    "interp_dir = output_dir / \"interp\"\n",
    "interp_files = interp_dir.glob(\"*.pkl\")\n",
    "\n",
    "for f in interp_files:\n",
    "    name = f.stem\n",
    "    with open(f, \"rb\") as f:\n",
    "        loaded_interpolator = pickle.load(f)\n",
    "    synthetic = loaded_interpolator((X2,X1))\n",
    "\n",
    "\n",
    "    plt.imshow(synthetic, origin='lower')\n",
    "    cbar = plt.colorbar()\n",
    "    cbar.set_label('Field Value [arb]')\n",
    "    plt.title(name)\n",
    "    plt.xlabel(\"x [c/$\\omega_{pe}$]\")\n",
    "    plt.ylabel(\"y [c/$\\omega_{pe}$]\")\n",
    "    plt.show()\n",
    "\n",
    "interp_files = interp_dir.glob(\"*.npy\")\n",
    "\n",
    "for f in interp_files:\n",
    "    name = f.stem\n",
    "    plt.imshow(np.load(f).T[10:,:], origin='lower')\n",
    "    cbar = plt.colorbar()\n",
    "    cbar.set_label('Field Value [arb]')\n",
    "    plt.title(name)\n",
    "    plt.xlabel(\"x [c/$\\omega_{pe}$]\")\n",
    "    plt.ylabel(\"y [c/$\\omega_{pe}$]\")\n",
    "    plt.show()"
   ]
  },
  {
   "cell_type": "code",
   "execution_count": null,
   "id": "3d4271cb",
   "metadata": {},
   "outputs": [],
   "source": []
  }
 ],
 "metadata": {
  "kernelspec": {
   "display_name": "FLASH-analysis",
   "language": "python",
   "name": "python3"
  },
  "language_info": {
   "codemirror_mode": {
    "name": "ipython",
    "version": 3
   },
   "file_extension": ".py",
   "mimetype": "text/x-python",
   "name": "python",
   "nbconvert_exporter": "python",
   "pygments_lexer": "ipython3",
   "version": "3.12.3"
  }
 },
 "nbformat": 4,
 "nbformat_minor": 5
}
